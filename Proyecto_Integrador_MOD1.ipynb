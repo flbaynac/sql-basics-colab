{
  "nbformat": 4,
  "nbformat_minor": 0,
  "metadata": {
    "colab": {
      "provenance": [],
      "authorship_tag": "ABX9TyNVQghRjzg72PladdKPC7OU",
      "include_colab_link": true
    },
    "kernelspec": {
      "name": "python3",
      "display_name": "Python 3"
    },
    "language_info": {
      "name": "python"
    }
  },
  "cells": [
    {
      "cell_type": "markdown",
      "metadata": {
        "id": "view-in-github",
        "colab_type": "text"
      },
      "source": [
        "<a href=\"https://colab.research.google.com/github/flbaynac/sql-basics-colab/blob/main/Proyecto_Integrador_MOD1.ipynb\" target=\"_parent\"><img src=\"https://colab.research.google.com/assets/colab-badge.svg\" alt=\"Open In Colab\"/></a>"
      ]
    },
    {
      "cell_type": "code",
      "source": [
        "# @markdown ## CURSO DE INTRODUCCIÓN A BASES DE DATOS Y SQL\n",
        "# @markdown ### Proyecto integrador - Módulo 1\n",
        "# @markdown _Ejecutar esta celda cada vez que se abra google colab para inializar la base de datos_\n",
        "\n",
        "# Import library\n",
        "import sqlite3\n",
        "\n",
        "# Connect to an SQLite database; use ':memory:' for an in-memory database\n",
        "conn = sqlite3.connect(':memory:')\n"
      ],
      "metadata": {
        "cellView": "form",
        "id": "GbRkBjltuIGy"
      },
      "execution_count": 4,
      "outputs": []
    },
    {
      "cell_type": "code",
      "source": [
        "# @markdown ### Ejercicios\n",
        "# @markdown 1. Crear una base de datos con el nombre LABORATORIO. En el caso de que la base de datos exista previamente, eliminarla antes de iniciar el laboratorio.\n",
        "\n",
        "query1 = \"CREATE DATABASE LABORATORIO;\" # @param {type:\"string\"}\n",
        "print(\"SQL query: \" + query1)\n",
        "#En sqlite3 no se necesita este paso por ende se saltea\n",
        "\n",
        "# @markdown 2. Poner en uso la base de datos generada en el paso anterior.\n",
        "query2 = \"USE LABORATORIO;\" # @param {type:\"string\"}\n",
        "print(\"SQL query: \" + query2)\n",
        "#En sqlite3 no se necesita este paso por ende se saltea\n",
        "\n",
        "# @markdown 3. Crear una tabla con el nombre FACTURAS dentro de la base de datos con la estructura que se muestra en la diapositiva 5 y tener en cuenta las siguientes consideraciones:\n",
        "\n",
        "query3 = \"CREATE TABLE ;\" # @param {type:\"string\"}\n",
        "print(\"SQL query: \" + query3)\n",
        "c = conn.cursor()\n",
        "c.execute(query3)\n",
        "conn.commit()\n",
        "print(c.fetchall())\n",
        "\n",
        "# @markdown * PK significa PRIMARY KEY.\n",
        "\n",
        "# @markdown * Observar que se declara una clave primaria compuesta por los campos Letra y Número; cada campo por sí solo no es clave, ni tampoco identifica al registro, pero la combinación de ambos forman la clave.\n",
        "\n",
        "# @markdown 4. Crear una tabla con el nombre ARTÍCULOS dentro de la base de datos y tomar en consideración la estructura definida en la diapositiva 5."
      ],
      "metadata": {
        "colab": {
          "base_uri": "https://localhost:8080/"
        },
        "id": "v8ibjYN-5x92",
        "outputId": "e0bc7ff9-9ae0-4d4b-cc61-e2b4fd0ed133"
      },
      "execution_count": 8,
      "outputs": [
        {
          "output_type": "stream",
          "name": "stdout",
          "text": [
            "SQL query: CREATE DATABASE LABORATORIO;\n",
            "En sqlite3 no se necesita este paso por ende se saltea\n"
          ]
        }
      ]
    }
  ]
}