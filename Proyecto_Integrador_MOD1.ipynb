{
  "nbformat": 4,
  "nbformat_minor": 0,
  "metadata": {
    "colab": {
      "provenance": [],
      "authorship_tag": "ABX9TyMt6BweMJQzy7aioG64Ceoc",
      "include_colab_link": true
    },
    "kernelspec": {
      "name": "python3",
      "display_name": "Python 3"
    },
    "language_info": {
      "name": "python"
    }
  },
  "cells": [
    {
      "cell_type": "markdown",
      "metadata": {
        "id": "view-in-github",
        "colab_type": "text"
      },
      "source": [
        "<a href=\"https://colab.research.google.com/github/flbaynac/sql-basics-colab/blob/main/Proyecto_Integrador_MOD1.ipynb\" target=\"_parent\"><img src=\"https://colab.research.google.com/assets/colab-badge.svg\" alt=\"Open In Colab\"/></a>"
      ]
    },
    {
      "cell_type": "code",
      "source": [
        "# @title CURSO DE INTRODUCCIÓN A BASES DE DATOS Y SQL\n",
        "# @markdown ### Proyecto integrador - Módulo 1\n",
        "# @markdown _Ejecutar esta celda cada vez que se abra google colab para inializar la base de datos_\n",
        "\n",
        "# Import library\n",
        "import sqlite3\n",
        "\n",
        "# Connect to an SQLite database; use ':memory:' for an in-memory database\n",
        "conn = sqlite3.connect(':memory:')\n"
      ],
      "metadata": {
        "cellView": "form",
        "id": "GbRkBjltuIGy"
      },
      "execution_count": null,
      "outputs": []
    },
    {
      "cell_type": "code",
      "source": [
        "# @title Ejercicios\n",
        "# @markdown 1. Crear una base de datos con el nombre LABORATORIO. En el caso de que la base de datos exista previamente, eliminarla antes de iniciar el laboratorio.\n",
        "\n",
        "query1 = \"CREATE DATABASE LABORATORIO;\" # @param {type:\"string\"}\n",
        "print(\"SQL query: \" + query1)\n",
        "#En sqlite3 no se necesita este paso por ende se saltea\n",
        "\n",
        "# @markdown 2. Poner en uso la base de datos generada en el paso anterior.\n",
        "query2 = \"USE LABORATORIO;\" # @param {type:\"string\"}\n",
        "print(\"SQL query: \" + query2)\n",
        "#En sqlite3 no se necesita este paso por ende se saltea\n",
        "\n",
        "# @markdown 3. Crear una tabla con el nombre FACTURAS dentro de la base de datos con la estructura que se muestra a continuación y tener en cuenta las siguientes consideraciones:\n",
        "\n",
        "# @markdown > | **FACTURAS**   |         |        |\n",
        "# @markdown |----------------|---------|--------|\n",
        "# @markdown | **Letra**      | char    | **PK** |\n",
        "# @markdown | **Numero**     | integer | **PK** |\n",
        "# @markdown | **ClienteID**  | integer |        |\n",
        "# @markdown | **ArticuloID** | integer |        |\n",
        "# @markdown | **Fecha**      | date    |        |\n",
        "# @markdown | **Monto**      | double  |        |\n",
        "\n",
        "# @markdown > | **ARTICULOS**   |         |        |\n",
        "# @markdown |----------------|---------|--------|\n",
        "# @markdown | **ArticuloID** | integer | **PK** |\n",
        "# @markdown | **Nombre**     | varchar(50) |        |\n",
        "# @markdown | **Precio**     | double  |        |\n",
        "# @markdown | **Stock**      | integer |        |\n",
        "\n",
        "# @markdown > | **CLIENTES**   |         |        |\n",
        "# @markdown |----------------|---------|--------|\n",
        "# @markdown | **ClienteID**  | integer | **PK** |\n",
        "# @markdown | **Nombre**     | varchar(25) |    |\n",
        "# @markdown | **Apellido**   | varchar(25) |    |\n",
        "# @markdown | **CUIT**       | char(16) |       |\n",
        "# @markdown | **Dirección**  | varchar(50) |    |\n",
        "# @markdown | **Comentarios** | varchar(50) |   |\n",
        "\n",
        "\n",
        "# @markdown > * PK significa PRIMARY KEY.\n",
        "\n",
        "# @markdown > * Observar que se declara una clave primaria compuesta por los campos Letra y Número; cada campo por sí solo no es clave, ni tampoco identifica al registro, pero la combinación de ambos forman la clave.\n",
        "\n",
        "\n",
        "\n",
        "query3 = \"CREATE TABLE FACTURAS();\" # @param {type:\"string\"}\n",
        "print(\"SQL query: \" + query3)\n",
        "c = conn.cursor()\n",
        "c.execute(query3)\n",
        "conn.commit()\n",
        "print(c.fetchall())\n",
        "\n",
        "# @markdown 4. Crear una tabla con el nombre ARTÍCULOS dentro de la base de datos y tomar en consideración la estructura definida anteriormente."
      ],
      "metadata": {
        "id": "v8ibjYN-5x92"
      },
      "execution_count": null,
      "outputs": []
    }
  ]
}